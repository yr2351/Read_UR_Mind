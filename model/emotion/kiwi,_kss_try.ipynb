{
  "nbformat": 4,
  "nbformat_minor": 0,
  "metadata": {
    "colab": {
      "provenance": []
    },
    "kernelspec": {
      "name": "python3",
      "display_name": "Python 3"
    },
    "language_info": {
      "name": "python"
    }
  },
  "cells": [
    {
      "cell_type": "markdown",
      "source": [
        "## **Kiwi**\n",
        "- '다'와 '.'이 찍혀있는 경우는 제대로 분리\n",
        "- 그 외의 단어로 끝나는 것은 분리하지 못함\n",
        "\n"
      ],
      "metadata": {
        "id": "Ya-pnlT-Qv2e"
      }
    },
    {
      "cell_type": "code",
      "execution_count": null,
      "metadata": {
        "colab": {
          "base_uri": "https://localhost:8080/"
        },
        "id": "_jmnTgCtN12v",
        "outputId": "6c16c2a7-b981-4982-8379-7b9b724008f5"
      },
      "outputs": [
        {
          "output_type": "stream",
          "name": "stdout",
          "text": [
            "Looking in indexes: https://pypi.org/simple, https://us-python.pkg.dev/colab-wheels/public/simple/\n",
            "Requirement already satisfied: cmake in /usr/local/lib/python3.8/dist-packages (3.22.6)\n",
            "Looking in indexes: https://pypi.org/simple, https://us-python.pkg.dev/colab-wheels/public/simple/\n",
            "Requirement already satisfied: pip in /usr/local/lib/python3.8/dist-packages (22.0.4)\n",
            "Collecting pip\n",
            "  Downloading pip-23.0-py3-none-any.whl (2.1 MB)\n",
            "\u001b[2K     \u001b[90m━━━━━━━━━━━━━━━━━━━━━━━━━━━━━━━━━━━━━━━━\u001b[0m \u001b[32m2.1/2.1 MB\u001b[0m \u001b[31m22.3 MB/s\u001b[0m eta \u001b[36m0:00:00\u001b[0m\n",
            "\u001b[?25hInstalling collected packages: pip\n",
            "  Attempting uninstall: pip\n",
            "    Found existing installation: pip 22.0.4\n",
            "    Uninstalling pip-22.0.4:\n",
            "      Successfully uninstalled pip-22.0.4\n",
            "Successfully installed pip-23.0\n",
            "Looking in indexes: https://pypi.org/simple, https://us-python.pkg.dev/colab-wheels/public/simple/\n",
            "Collecting kiwipiepy\n",
            "  Downloading kiwipiepy-0.14.1-cp38-cp38-manylinux_2_12_x86_64.manylinux2010_x86_64.whl (1.7 MB)\n",
            "\u001b[2K     \u001b[90m━━━━━━━━━━━━━━━━━━━━━━━━━━━━━━━━━━━━━━━━\u001b[0m \u001b[32m1.7/1.7 MB\u001b[0m \u001b[31m7.9 MB/s\u001b[0m eta \u001b[36m0:00:00\u001b[0m\n",
            "\u001b[?25hCollecting kiwipiepy-model~=0.14\n",
            "  Downloading kiwipiepy_model-0.14.0.tar.gz (30.5 MB)\n",
            "\u001b[2K     \u001b[90m━━━━━━━━━━━━━━━━━━━━━━━━━━━━━━━━━━━━━━━━\u001b[0m \u001b[32m30.5/30.5 MB\u001b[0m \u001b[31m13.3 MB/s\u001b[0m eta \u001b[36m0:00:00\u001b[0m\n",
            "\u001b[?25h  Preparing metadata (setup.py) ... \u001b[?25l\u001b[?25hdone\n",
            "Requirement already satisfied: numpy in /usr/local/lib/python3.8/dist-packages (from kiwipiepy) (1.21.6)\n",
            "Collecting dataclasses\n",
            "  Downloading dataclasses-0.6-py3-none-any.whl (14 kB)\n",
            "Building wheels for collected packages: kiwipiepy-model\n",
            "  Building wheel for kiwipiepy-model (setup.py) ... \u001b[?25l\u001b[?25hdone\n",
            "  Created wheel for kiwipiepy-model: filename=kiwipiepy_model-0.14.0-py3-none-any.whl size=30560039 sha256=b678ff25d287893498d3567b5caecd0aff2efbb1826866490fee54d62ef30134\n",
            "  Stored in directory: /root/.cache/pip/wheels/51/c4/8a/496d744b1307d34d63960f7124851a3447db2f744cb7eb2aeb\n",
            "Successfully built kiwipiepy-model\n",
            "Installing collected packages: kiwipiepy-model, dataclasses, kiwipiepy\n",
            "Successfully installed dataclasses-0.6 kiwipiepy-0.14.1 kiwipiepy-model-0.14.0\n",
            "\u001b[33mWARNING: Running pip as the 'root' user can result in broken permissions and conflicting behaviour with the system package manager. It is recommended to use a virtual environment instead: https://pip.pypa.io/warnings/venv\u001b[0m\u001b[33m\n",
            "\u001b[0m"
          ]
        }
      ],
      "source": [
        "!pip install cmake\n",
        "!pip install --upgrade pip\n",
        "!pip install kiwipiepy"
      ]
    },
    {
      "cell_type": "code",
      "source": [
        "from kiwipiepy import Kiwi\n",
        "kiwi = Kiwi()"
      ],
      "metadata": {
        "id": "WXaa97BjQtfk"
      },
      "execution_count": null,
      "outputs": []
    },
    {
      "cell_type": "code",
      "source": [
        "#10문장 (짧은)\n",
        "kiwi.split_into_sents(\"정말 옛날옛날에 애용하던 러쉬에 오랜만에 가봤다. 다시 보니 또 추억 뿜뿜 몇 가지 들고 집으로 왔다:) 거의 매달 색을 바꾸니 헤어가 남아나질 않...ㅠ 하이라이트를 다음엔 꼭 하리라!ㅋ 혼자만의 시간을 보낸 론 헤르만 카페 정말 너무 예쁘고, 맛있는 곳완전 추천추천!! 유치원 갔다오는 회장님과 함께 또 돈카츠 먹기ㅎㅎ 맛있는 점심을 꼬기꼬기 먹고, 꼬기 사진은 유툽용으로 동영상만 찍었더니 하나도 없다ㅠ 주변 공원으로 가서 회장님 자전거 연습:) 오늘이 추석이라는 사실도 잊고 있었다.. 운동 간단히 하고 나오는데, 보름달이 너무 예뻤다:)\")"
      ],
      "metadata": {
        "colab": {
          "base_uri": "https://localhost:8080/"
        },
        "id": "-0b7X4QqQ8Cr",
        "outputId": "fbd96fcb-050c-4ab4-d022-77aad93da165"
      },
      "execution_count": null,
      "outputs": [
        {
          "output_type": "execute_result",
          "data": {
            "text/plain": [
              "[Sentence(text='정말 옛날옛날에 애용하던 러쉬에 오랜만에 가봤다.', start=0, end=27, tokens=None, subs=[]),\n",
              " Sentence(text='다시 보니 또 추억 뿜뿜 몇 가지 들고 집으로 왔다:) 거의 매달 색을 바꾸니 헤어가 남아나질 않...ㅠ', start=28, end=86, tokens=None, subs=[]),\n",
              " Sentence(text='하이라이트를 다음엔 꼭 하리라!ㅋ', start=87, end=105, tokens=None, subs=[]),\n",
              " Sentence(text='혼자만의 시간을 보낸 론 헤르만 카페 정말 너무 예쁘고, 맛있는 곳완전 추천추천!!', start=106, end=152, tokens=None, subs=[]),\n",
              " Sentence(text='유치원 갔다오는 회장님과 함께 또 돈카츠 먹기ㅎㅎ 맛있는 점심을 꼬기꼬기 먹고, 꼬기 사진은 유툽용으로 동영상만 찍었더니 하나도 없다ㅠ', start=153, end=228, tokens=None, subs=[]),\n",
              " Sentence(text='주변 공원으로 가서 회장님 자전거 연습:) 오늘이 추석이라는 사실도 잊고 있었다..', start=229, end=275, tokens=None, subs=[]),\n",
              " Sentence(text='운동 간단히 하고 나오는데, 보름달이 너무 예뻤다:)', start=276, end=305, tokens=None, subs=[])]"
            ]
          },
          "metadata": {},
          "execution_count": 5
        }
      ]
    },
    {
      "cell_type": "code",
      "source": [
        "#5문장 -> 제대로 분류함\n",
        "kiwi.split_into_sents(\"봄과 가을 중에 하나만 고르라 하면 나는 봄을 고를것이다. 봄에 벚꽃 구경하는게 정말 좋기 때문이다. 또 가을에는 겨울이 올려고 대체적으로 봄보다 쌀쌀하다. 난 추운건 딱 질색이기 때문에 가을보단 봄이 좋다. 마지막으로 봄은 새학기인데 새로운 친구들과 기분좋게 시작하는게 마음에 들기 때문에 난 가을보단 봄이 좋다.\")"
      ],
      "metadata": {
        "colab": {
          "base_uri": "https://localhost:8080/"
        },
        "id": "cr1pBaFiRJ9O",
        "outputId": "73210c73-066f-4ffe-d9ca-f668576fef23"
      },
      "execution_count": null,
      "outputs": [
        {
          "output_type": "execute_result",
          "data": {
            "text/plain": [
              "[Sentence(text='봄과 가을 중에 하나만 고르라 하면 나는 봄을 고를것이다.', start=0, end=32, tokens=None, subs=[]),\n",
              " Sentence(text='봄에 벚꽃 구경하는게 정말 좋기 때문이다.', start=33, end=56, tokens=None, subs=[]),\n",
              " Sentence(text='또 가을에는 겨울이 올려고 대체적으로 봄보다 쌀쌀하다.', start=57, end=87, tokens=None, subs=[]),\n",
              " Sentence(text='난 추운건 딱 질색이기 때문에 가을보단 봄이 좋다.', start=88, end=116, tokens=None, subs=[]),\n",
              " Sentence(text='마지막으로 봄은 새학기인데 새로운 친구들과 기분좋게 시작하는게 마음에 들기 때문에 난 가을보단 봄이 좋다.', start=117, end=176, tokens=None, subs=[])]"
            ]
          },
          "metadata": {},
          "execution_count": 6
        }
      ]
    },
    {
      "cell_type": "code",
      "source": [
        "spl = kiwi.split_into_sents(\"오늘은 크리스마스다 그래서 유현이랑 나연이랑 놀앗다 작년 까지만 해도 크리스마스때 너무 신났는데 올해는 별로 크리스마스여도 신나지가 않은거 같다 근데 특히 유나연이 늦게나왓다 나여니가 마싯는걸 들고왓다 그리고 너무 심심해서 틱톡을 찌그러갓당 거기에 박시우 전우성 김태윤이 잇엇다 찍는데 김태윤이랑 우리동생이 방해햇다 너무 짜증낫다 갔다 없을때 찍고 담요 들고가서 앉아서 1자로앉고 폰을햇다 그러고 유현이가 1차가자고해서 1차를갔다 거기에 또 남자애들이 있었다 축구하는걸 구경햇다 잘하는건지 못하는건지 모르겟다 확실히 나보다누잘햇다 그리고 4시가 되서 집을갓다 애들이랑 오늘 논거 너무 재밋엇다 아 나연이가 깝쳐서 나한테 안겼었다 근데 되게 아파햇다 사실 헤드락을 걸엇다 너므 웃겻다 끝\")"
      ],
      "metadata": {
        "id": "3ZTn2QS2Vpg7"
      },
      "execution_count": null,
      "outputs": []
    },
    {
      "cell_type": "code",
      "source": [
        "all_text = []\n",
        "for i in range(len(spl)):\n",
        "  a = spl[i].text\n",
        "  all_text.append(a)"
      ],
      "metadata": {
        "id": "IkUXCtdrWMbR"
      },
      "execution_count": null,
      "outputs": []
    },
    {
      "cell_type": "code",
      "source": [
        "all_text"
      ],
      "metadata": {
        "colab": {
          "base_uri": "https://localhost:8080/"
        },
        "id": "b9RiIf6NWbOz",
        "outputId": "0a62edb9-7943-471a-8d78-230c1befc6dd"
      },
      "execution_count": null,
      "outputs": [
        {
          "output_type": "execute_result",
          "data": {
            "text/plain": [
              "['오늘은 크리스마스다',\n",
              " '그래서 유현이랑 나연이랑 놀앗다 작년 까지만 해도 크리스마스때 너무 신났는데 올해는 별로 크리스마스여도 신나지가 않은거 같다',\n",
              " '근데 특히 유나연이 늦게나왓다',\n",
              " '나여니가 마싯는걸 들고왓다 그리고 너무 심심해서 틱톡을 찌그러갓당',\n",
              " '거기에 박시우 전우성 김태윤이 잇엇다 찍는데 김태윤이랑 우리동생이 방해햇다',\n",
              " '너무 짜증낫다 갔다 없을때 찍고 담요 들고가서 앉아서 1자로앉고 폰을햇다',\n",
              " '그러고 유현이가 1차가자고해서 1차를갔다',\n",
              " '거기에 또 남자애들이 있었다',\n",
              " '축구하는걸 구경햇다',\n",
              " '잘하는건지 못하는건지 모르겟다 확실히 나보다누잘햇다',\n",
              " '그리고 4시가 되서 집을갓다 애들이랑 오늘 논거 너무 재밋엇다 아 나연이가 깝쳐서 나한테 안겼었다',\n",
              " '근데 되게 아파햇다',\n",
              " '사실 헤드락을 걸엇다',\n",
              " '너므 웃겻다',\n",
              " '끝']"
            ]
          },
          "metadata": {},
          "execution_count": 27
        }
      ]
    },
    {
      "cell_type": "code",
      "source": [
        "spl2 = kiwi.split_into_sents(\"주말에 오랜만에 대학교 친구들 청주에서 만나기로 해서 청주갔다가 언니가 동네 네일샵에 회원권 끊어놓은 걸 다 못썼다며 가서 하라고 해서 토요일 아침에 다녀왔는데 네일받고 이렇게 기분 나쁘긴 처음이다.. 10시반예약이여서 일어나서 부랴부랴 갔더니.. 시간 딱 맞춰 갔는데 오픈 준비 안되서 청소중..ㅎㅎ 어수선 그자체 ㅋㅋㅋㅋㅋ 타샵에서 젤네일 받은게 있어서 예약할때 제거 있다고 했고 분명 가격표에는 타샵제거비용 만원인데, 나한테는 만오천원이라함. 엄마한테 비용 얘기했다고.. 그래서 뭔 이유가 있나보다 엄마한테 얘기했나보다 하고 알겠다 했는데 엄마한테 물어보니 그냥 가격만 얘기했고 왜 만원 아니고 만오천원인지 얘기 안했다는데 뭐 워낙 물가가 많이 올랐으니 가격이 올랐을 순 있지만 설명을 제대로 해주셨으면.. 근데 문제는 제거 하면서 기분 너무 상함. 분명 타샵 제거 비용 받고 하는거고 비용 받는 이유 중 하나가 타샵에서 어떤 젤을 쓰고 어디까지가 컬러고, 베이스젤인지 모르니 어려울 수 있다는거 이해함. 그러니까 돈 받는거고 네일 한두번 받아본거 아니니깐.. 근데 계~~~~~~~속 제거하면서 안지워진다, 안떨어진다, 도대체 뭘쓴거냐 한숨 푹푹, 짜증내는 거임. 아 진짜 누가 공짜로 제거해 달라는 것도 아니고 내가 내돈내고 하는데 왜 이런 눈치를 받아야 하는지. 타샵 제거가 힘들면 받질 마세요.. 진짜 네일 받으면서 이렇게 기분나쁘긴 처음이네. 하고 나오면서 엄마, 언니한테 난 여기 절대 다신 안간다고 함 \")"
      ],
      "metadata": {
        "id": "1Db3tLnQWjd1"
      },
      "execution_count": null,
      "outputs": []
    },
    {
      "cell_type": "code",
      "source": [
        "all_text = []\n",
        "for i in range(len(spl2)):\n",
        "  a = spl2[i].text\n",
        "  all_text.append(a)"
      ],
      "metadata": {
        "id": "9GR0u8kYWtoK"
      },
      "execution_count": null,
      "outputs": []
    },
    {
      "cell_type": "code",
      "source": [
        "print(len(all_text))"
      ],
      "metadata": {
        "colab": {
          "base_uri": "https://localhost:8080/"
        },
        "id": "5iPFP55KWw_a",
        "outputId": "76d4cd1f-afd4-4910-e0e8-c1d19534d0cd"
      },
      "execution_count": null,
      "outputs": [
        {
          "output_type": "stream",
          "name": "stdout",
          "text": [
            "16\n"
          ]
        }
      ]
    },
    {
      "cell_type": "code",
      "source": [
        "all_text"
      ],
      "metadata": {
        "colab": {
          "base_uri": "https://localhost:8080/"
        },
        "id": "7VK7oitnW5-3",
        "outputId": "f2be3a40-a4ae-4aa9-98d7-cc7eacf0e5d3"
      },
      "execution_count": null,
      "outputs": [
        {
          "output_type": "execute_result",
          "data": {
            "text/plain": [
              "['주말에 오랜만에 대학교 친구들 청주에서 만나기로 해서 청주갔다가 언니가 동네 네일샵에 회원권 끊어놓은 걸 다 못썼다며 가서 하라고 해서 토요일 아침에 다녀왔는데 네일받고 이렇게 기분 나쁘긴 처음이다..',\n",
              " '10시반예약이여서 일어나서 부랴부랴 갔더니..',\n",
              " '시간 딱 맞춰 갔는데 오픈 준비 안되서 청소중..ㅎㅎ',\n",
              " '어수선 그자체 ㅋㅋㅋㅋㅋ 타샵에서 젤네일 받은게 있어서 예약할때 제거 있다고 했고 분명 가격표에는 타샵제거비용 만원인데, 나한테는 만오천원이라함.',\n",
              " '엄마한테 비용 얘기했다고..',\n",
              " '그래서 뭔 이유가 있나보다 엄마한테 얘기했나보다 하고 알겠다',\n",
              " '했는데 엄마한테 물어보니 그냥 가격만 얘기했고 왜 만원 아니고 만오천원인지',\n",
              " '얘기 안했다는데 뭐 워낙 물가가 많이 올랐으니 가격이 올랐을 순 있지만 설명을 제대로 해주셨으면..',\n",
              " '근데 문제는 제거 하면서 기분 너무 상함.',\n",
              " '분명 타샵 제거 비용 받고 하는거고 비용 받는 이유 중 하나가 타샵에서 어떤 젤을 쓰고 어디까지가 컬러고, 베이스젤인지 모르니 어려울 수 있다는거 이해함.',\n",
              " '그러니까 돈 받는거고 네일 한두번 받아본거 아니니깐..',\n",
              " '근데 계~~~~~~~속 제거하면서 안지워진다, 안떨어진다, 도대체 뭘쓴거냐 한숨 푹푹, 짜증내는 거임.',\n",
              " '아 진짜 누가 공짜로 제거해 달라는 것도 아니고 내가 내돈내고 하는데 왜 이런 눈치를 받아야 하는지.',\n",
              " '타샵 제거가 힘들면 받질 마세요..',\n",
              " '진짜 네일 받으면서 이렇게 기분나쁘긴 처음이네.',\n",
              " '하고 나오면서 엄마, 언니한테 난 여기 절대 다신 안간다고 함']"
            ]
          },
          "metadata": {},
          "execution_count": 34
        }
      ]
    },
    {
      "cell_type": "markdown",
      "source": [
        "## **Kss**\n",
        "- kiwi와 비슷함\n",
        "- 단 정성평가시, 일기 데이터에서는 kss가 더 좋은 것같음"
      ],
      "metadata": {
        "id": "BhVCrjWQSxJR"
      }
    },
    {
      "cell_type": "code",
      "source": [
        "pip install kss"
      ],
      "metadata": {
        "colab": {
          "base_uri": "https://localhost:8080/"
        },
        "id": "83V5w9usR-2n",
        "outputId": "8b28dc17-4099-4746-e4ce-53433fb86aa9"
      },
      "execution_count": null,
      "outputs": [
        {
          "output_type": "stream",
          "name": "stdout",
          "text": [
            "Looking in indexes: https://pypi.org/simple, https://us-python.pkg.dev/colab-wheels/public/simple/\n",
            "Collecting kss\n",
            "  Downloading kss-4.5.1.tar.gz (77 kB)\n",
            "\u001b[2K     \u001b[90m━━━━━━━━━━━━━━━━━━━━━━━━━━━━━━━━━━━━━━━━\u001b[0m \u001b[32m77.7/77.7 kB\u001b[0m \u001b[31m3.6 MB/s\u001b[0m eta \u001b[36m0:00:00\u001b[0m\n",
            "\u001b[?25h  Preparing metadata (setup.py) ... \u001b[?25l\u001b[?25hdone\n",
            "Collecting emoji==1.2.0\n",
            "  Downloading emoji-1.2.0-py3-none-any.whl (131 kB)\n",
            "\u001b[2K     \u001b[90m━━━━━━━━━━━━━━━━━━━━━━━━━━━━━━━━━━━━━━━\u001b[0m \u001b[32m131.3/131.3 kB\u001b[0m \u001b[31m7.7 MB/s\u001b[0m eta \u001b[36m0:00:00\u001b[0m\n",
            "\u001b[?25hRequirement already satisfied: regex in /usr/local/lib/python3.8/dist-packages (from kss) (2022.6.2)\n",
            "Collecting pecab\n",
            "  Downloading pecab-1.0.8.tar.gz (26.4 MB)\n",
            "\u001b[2K     \u001b[90m━━━━━━━━━━━━━━━━━━━━━━━━━━━━━━━━━━━━━━━━\u001b[0m \u001b[32m26.4/26.4 MB\u001b[0m \u001b[31m40.5 MB/s\u001b[0m eta \u001b[36m0:00:00\u001b[0m\n",
            "\u001b[?25h  Preparing metadata (setup.py) ... \u001b[?25l\u001b[?25hdone\n",
            "Requirement already satisfied: networkx in /usr/local/lib/python3.8/dist-packages (from kss) (3.0)\n",
            "Requirement already satisfied: numpy in /usr/local/lib/python3.8/dist-packages (from pecab->kss) (1.21.6)\n",
            "Requirement already satisfied: pyarrow in /usr/local/lib/python3.8/dist-packages (from pecab->kss) (9.0.0)\n",
            "Requirement already satisfied: pytest in /usr/local/lib/python3.8/dist-packages (from pecab->kss) (3.6.4)\n",
            "Requirement already satisfied: attrs>=17.4.0 in /usr/local/lib/python3.8/dist-packages (from pytest->pecab->kss) (22.2.0)\n",
            "Requirement already satisfied: atomicwrites>=1.0 in /usr/local/lib/python3.8/dist-packages (from pytest->pecab->kss) (1.4.1)\n",
            "Requirement already satisfied: setuptools in /usr/local/lib/python3.8/dist-packages (from pytest->pecab->kss) (57.4.0)\n",
            "Requirement already satisfied: pluggy<0.8,>=0.5 in /usr/local/lib/python3.8/dist-packages (from pytest->pecab->kss) (0.7.1)\n",
            "Requirement already satisfied: six>=1.10.0 in /usr/local/lib/python3.8/dist-packages (from pytest->pecab->kss) (1.15.0)\n",
            "Requirement already satisfied: more-itertools>=4.0.0 in /usr/local/lib/python3.8/dist-packages (from pytest->pecab->kss) (9.0.0)\n",
            "Requirement already satisfied: py>=1.5.0 in /usr/local/lib/python3.8/dist-packages (from pytest->pecab->kss) (1.11.0)\n",
            "Building wheels for collected packages: kss, pecab\n",
            "  Building wheel for kss (setup.py) ... \u001b[?25l\u001b[?25hdone\n",
            "  Created wheel for kss: filename=kss-4.5.1-py3-none-any.whl size=53218 sha256=d71a364dd9d304c9b2ad4df8ae1697ae11228a03f804ffa80342ae159a9ddf8a\n",
            "  Stored in directory: /root/.cache/pip/wheels/8c/f9/05/a93eb0defc9eed494ee4d42e3d9076fade98f08982f41cf09f\n",
            "  Building wheel for pecab (setup.py) ... \u001b[?25l\u001b[?25hdone\n",
            "  Created wheel for pecab: filename=pecab-1.0.8-py3-none-any.whl size=26646667 sha256=010795f2c926fe47fd37e4657f0af4cb1568c7bc11c3c7c680cc449771830189\n",
            "  Stored in directory: /root/.cache/pip/wheels/a9/98/a3/085a909aa25805f321467a3af3b80d43b6094ed335b4818775\n",
            "Successfully built kss pecab\n",
            "Installing collected packages: emoji, pecab, kss\n",
            "Successfully installed emoji-1.2.0 kss-4.5.1 pecab-1.0.8\n",
            "\u001b[33mWARNING: Running pip as the 'root' user can result in broken permissions and conflicting behaviour with the system package manager. It is recommended to use a virtual environment instead: https://pip.pypa.io/warnings/venv\u001b[0m\u001b[33m\n",
            "\u001b[0m"
          ]
        }
      ]
    },
    {
      "cell_type": "code",
      "source": [
        "import kss\n",
        "\n",
        "text = \"정말 옛날옛날에 애용하던 러쉬에 오랜만에 가봤다. 다시 보니 또 추억 뿜뿜 몇 가지 들고 집으로 왔다:) 거의 매달 색을 바꾸니 헤어가 남아나질 않...ㅠ 하이라이트를 다음엔 꼭 하리라!ㅋ 혼자만의 시간을 보낸 론 헤르만 카페 정말 너무 예쁘고, 맛있는 곳완전 추천추천!! 유치원 갔다오는 회장님과 함께 또 돈카츠 먹기ㅎㅎ 맛있는 점심을 꼬기꼬기 먹고, 꼬기 사진은 유툽용으로 동영상만 찍었더니 하나도 없다ㅠ 주변 공원으로 가서 회장님 자전거 연습:) 오늘이 추석이라는 사실도 잊고 있었다.. 운동 간단히 하고 나오는데, 보름달이 너무 예뻤다:)\"\n",
        "\n",
        "kss.split_sentences(text)"
      ],
      "metadata": {
        "colab": {
          "base_uri": "https://localhost:8080/"
        },
        "id": "ocCiehrOTG_p",
        "outputId": "39774ef6-2d4b-4e4b-9551-a09b08dc2b04"
      },
      "execution_count": null,
      "outputs": [
        {
          "output_type": "execute_result",
          "data": {
            "text/plain": [
              "['정말 옛날옛날에 애용하던 러쉬에 오랜만에 가봤다.',\n",
              " '다시 보니 또 추억 뿜뿜 몇 가지 들고 집으로 왔다:) 거의 매달 색을 바꾸니 헤어가 남아나질 않...ㅠ',\n",
              " '하이라이트를 다음엔 꼭 하리라!ㅋ',\n",
              " '혼자만의 시간을 보낸 론 헤르만 카페 정말 너무 예쁘고, 맛있는 곳완전 추천추천!!',\n",
              " '유치원 갔다오는 회장님과 함께 또 돈카츠 먹기ㅎㅎ 맛있는 점심을 꼬기꼬기 먹고, 꼬기 사진은 유툽용으로 동영상만 찍었더니 하나도 없다ㅠ',\n",
              " '주변 공원으로 가서 회장님 자전거 연습:) 오늘이 추석이라는 사실도 잊고 있었다..',\n",
              " '운동 간단히 하고 나오는데, 보름달이 너무 예뻤다:)']"
            ]
          },
          "metadata": {},
          "execution_count": 17
        }
      ]
    },
    {
      "cell_type": "code",
      "source": [
        "text = \"오늘은 크리스마스다 그래서 유현이랑 나연이랑 놀앗다 작년 까지만 해도 크리스마스때 너무 신났는데 올해는 별로 크리스마스여도 신나지가 않은거 같다 근데 특히 유나연이 늦게나왓다 나여니가 마싯는걸 들고왓다 그리고 너무 심심해서 틱톡을 찌그러갓당 거기에 박시우 전우성 김태윤이 잇엇다 찍는데 김태윤이랑 우리동생이 방해햇다 너무 짜증낫다 갔다 없을때 찍고 담요 들고가서 앉아서 1자로앉고 폰을햇다 그러고 유현이가 1차가자고해서 1차를갔다 거기에 또 남자애들이 있었다 축구하는걸 구경햇다 잘하는건지 못하는건지 모르겟다 확실히 나보다누잘햇다 그리고 4시가 되서 집을갓다 애들이랑 오늘 논거 너무 재밋엇다 아 나연이가 깝쳐서 나한테 안겼었다 근데 되게 아파햇다 사실 헤드락을 걸엇다 너므 웃겻다 끝\"\n",
        "\n",
        "kss.split_sentences(text)"
      ],
      "metadata": {
        "colab": {
          "base_uri": "https://localhost:8080/"
        },
        "id": "rTVpPzFcVddr",
        "outputId": "6beb7416-5c5d-47fb-ce2c-44f2fe9eed23"
      },
      "execution_count": null,
      "outputs": [
        {
          "output_type": "execute_result",
          "data": {
            "text/plain": [
              "['오늘은 크리스마스다',\n",
              " '그래서 유현이랑 나연이랑 놀앗다 작년 까지만 해도 크리스마스때 너무 신났는데 올해는 별로 크리스마스여도 신나지가 않은거 같다',\n",
              " '근데 특히 유나연이 늦게나왓다',\n",
              " '나여니가 마싯는걸 들고왓다',\n",
              " '그리고 너무 심심해서 틱톡을 찌그러갓당 거기에 박시우 전우성 김태윤이 잇엇다 찍는데 김태윤이랑 우리동생이 방해햇다',\n",
              " '너무 짜증낫다 갔다',\n",
              " '없을때 찍고 담요 들고가서 앉아서 1자로앉고 폰을햇다 그러고 유현이가 1차가자고해서 1차를갔다',\n",
              " '거기에 또 남자애들이 있었다 축구하는걸 구경햇다',\n",
              " '잘하는건지 못하는건지 모르겟다',\n",
              " '확실히 나보다누잘햇다',\n",
              " '그리고 4시가 되서 집을갓다 애들이랑 오늘 논거 너무 재밋엇다 아 나연이가 깝쳐서 나한테 안겼었다',\n",
              " '근데 되게 아파햇다',\n",
              " '사실 헤드락을 걸엇다 너므 웃겻다 끝']"
            ]
          },
          "metadata": {},
          "execution_count": 18
        }
      ]
    },
    {
      "cell_type": "code",
      "source": [
        "text1 = \"봄과 가을 중에 하나만 고르라 하면 나는 봄을 고를것이다. 봄에 벚꽃 구경하는게 정말 좋기 때문이다. 또 가을에는 겨울이 올려고 대체적으로 봄보다 쌀쌀하다. 난 추운건 딱 질색이기 때문에 가을보단 봄이 좋다. 마지막으로 봄은 새학기인데 새로운 친구들과 기분좋게 시작하는게 마음에 들기 때문에 난 가을보단 봄이 좋다.\"\n",
        "\n",
        "split_sent = kss.split_sentences(text1)"
      ],
      "metadata": {
        "id": "xhRkv79cUcPB"
      },
      "execution_count": null,
      "outputs": []
    },
    {
      "cell_type": "code",
      "source": [
        "split_sent"
      ],
      "metadata": {
        "colab": {
          "base_uri": "https://localhost:8080/"
        },
        "id": "FOJz1QKEUrDw",
        "outputId": "0746e29e-14b7-4a90-d2a3-867092460efc"
      },
      "execution_count": null,
      "outputs": [
        {
          "output_type": "execute_result",
          "data": {
            "text/plain": [
              "['봄과 가을 중에 하나만 고르라 하면 나는 봄을 고를것이다.',\n",
              " '봄에 벚꽃 구경하는게 정말 좋기 때문이다.',\n",
              " '또 가을에는 겨울이 올려고 대체적으로 봄보다 쌀쌀하다.',\n",
              " '난 추운건 딱 질색이기 때문에 가을보단 봄이 좋다.',\n",
              " '마지막으로 봄은 새학기인데 새로운 친구들과 기분좋게 시작하는게 마음에 들기 때문에 난 가을보단 봄이 좋다.']"
            ]
          },
          "metadata": {},
          "execution_count": 13
        }
      ]
    },
    {
      "cell_type": "code",
      "source": [
        "text2 = \"주말에 오랜만에 대학교 친구들 청주에서 만나기로 해서 청주갔다가 언니가 동네 네일샵에 회원권 끊어놓은 걸 다 못썼다며 가서 하라고 해서 토요일 아침에 다녀왔는데 네일받고 이렇게 기분 나쁘긴 처음이다.. 10시반예약이여서 일어나서 부랴부랴 갔더니.. 시간 딱 맞춰 갔는데 오픈 준비 안되서 청소중..ㅎㅎ 어수선 그자체 ㅋㅋㅋㅋㅋ 타샵에서 젤네일 받은게 있어서 예약할때 제거 있다고 했고 분명 가격표에는 타샵제거비용 만원인데, 나한테는 만오천원이라함. 엄마한테 비용 얘기했다고.. 그래서 뭔 이유가 있나보다 엄마한테 얘기했나보다 하고 알겠다 했는데 엄마한테 물어보니 그냥 가격만 얘기했고 왜 만원 아니고 만오천원인지 얘기 안했다는데 뭐 워낙 물가가 많이 올랐으니 가격이 올랐을 순 있지만 설명을 제대로 해주셨으면.. 근데 문제는 제거 하면서 기분 너무 상함. 분명 타샵 제거 비용 받고 하는거고 비용 받는 이유 중 하나가 타샵에서 어떤 젤을 쓰고 어디까지가 컬러고, 베이스젤인지 모르니 어려울 수 있다는거 이해함. 그러니까 돈 받는거고 네일 한두번 받아본거 아니니깐.. 근데 계~~~~~~~속 제거하면서 안지워진다, 안떨어진다, 도대체 뭘쓴거냐 한숨 푹푹, 짜증내는 거임. 아 진짜 누가 공짜로 제거해 달라는 것도 아니고 내가 내돈내고 하는데 왜 이런 눈치를 받아야 하는지. 타샵 제거가 힘들면 받질 마세요.. 진짜 네일 받으면서 이렇게 기분나쁘긴 처음이네. 하고 나오면서 엄마, 언니한테 난 여기 절대 다신 안간다고 함 \"\n",
        "\n",
        "split_sent = kss.split_sentences(text2)"
      ],
      "metadata": {
        "id": "R-dFkx5oUwAg"
      },
      "execution_count": null,
      "outputs": []
    },
    {
      "cell_type": "code",
      "source": [
        "split_sent"
      ],
      "metadata": {
        "colab": {
          "base_uri": "https://localhost:8080/"
        },
        "id": "3GKD9cqyXPFc",
        "outputId": "8e0c21b1-de25-4301-f797-d291794794ce"
      },
      "execution_count": null,
      "outputs": [
        {
          "output_type": "execute_result",
          "data": {
            "text/plain": [
              "['주말에 오랜만에 대학교 친구들 청주에서 만나기로 해서 청주갔다가 언니가 동네 네일샵에 회원권 끊어놓은 걸 다 못썼다며 가서 하라고 해서 토요일 아침에 다녀왔는데 네일받고 이렇게 기분 나쁘긴 처음이다..',\n",
              " '10시반예약이여서 일어나서 부랴부랴 갔더니..',\n",
              " '시간 딱 맞춰 갔는데 오픈 준비 안되서 청소중..ㅎㅎ',\n",
              " '어수선 그자체 ㅋㅋㅋㅋㅋ 타샵에서 젤네일 받은게 있어서 예약할때 제거 있다고 했고 분명 가격표에는 타샵제거비용 만원인데, 나한테는 만오천원이라함.',\n",
              " '엄마한테 비용 얘기했다고..',\n",
              " '그래서 뭔 이유가 있나보다 엄마한테 얘기했나보다 하고 알겠다 했는데 엄마한테 물어보니 그냥 가격만 얘기했고 왜 만원 아니고 만오천원인지 얘기 안했다는데 뭐 워낙 물가가 많이 올랐으니 가격이 올랐을 순 있지만 설명을 제대로 해주셨으면..',\n",
              " '근데 문제는 제거 하면서 기분 너무 상함.',\n",
              " '분명 타샵 제거 비용 받고 하는거고 비용 받는 이유 중 하나가 타샵에서 어떤 젤을 쓰고 어디까지가 컬러고, 베이스젤인지 모르니 어려울 수 있다는거 이해함.',\n",
              " '그러니까 돈 받는거고 네일 한두번 받아본거 아니니깐..',\n",
              " '근데 계~~~~~~~속 제거하면서 안지워진다, 안떨어진다, 도대체 뭘쓴거냐 한숨 푹푹, 짜증내는 거임.',\n",
              " '아 진짜 누가 공짜로 제거해 달라는 것도 아니고 내가 내돈내고 하는데 왜 이런 눈치를 받아야 하는지.',\n",
              " '타샵 제거가 힘들면 받질 마세요..',\n",
              " '진짜 네일 받으면서 이렇게 기분나쁘긴 처음이네.',\n",
              " '하고 나오면서 엄마, 언니한테 난 여기 절대 다신 안간다고 함']"
            ]
          },
          "metadata": {},
          "execution_count": 36
        }
      ]
    },
    {
      "cell_type": "code",
      "source": [
        "print(len(split_sent))"
      ],
      "metadata": {
        "colab": {
          "base_uri": "https://localhost:8080/"
        },
        "id": "pjZYWaCoXQhd",
        "outputId": "9d3420b7-269c-4efb-8ae6-5a386cdb0346"
      },
      "execution_count": null,
      "outputs": [
        {
          "output_type": "stream",
          "name": "stdout",
          "text": [
            "14\n"
          ]
        }
      ]
    },
    {
      "cell_type": "code",
      "source": [],
      "metadata": {
        "id": "-CHdvQnoXSqy"
      },
      "execution_count": null,
      "outputs": []
    }
  ]
}
